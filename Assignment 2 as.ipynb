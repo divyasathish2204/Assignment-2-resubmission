{
 "cells": [
  {
   "cell_type": "code",
   "execution_count": null,
   "id": "4bdb96b0-0cf9-4bd2-85f7-d9153ef30cfe",
   "metadata": {},
   "outputs": [],
   "source": [
    "# question 1\n",
    "The two values of boolean types are True and False."
   ]
  },
  {
   "cell_type": "code",
   "execution_count": null,
   "id": "820d23bd-205d-4312-8efc-e96b82cac507",
   "metadata": {},
   "outputs": [],
   "source": [
    "# QUESTION 2\n",
    "The three  boolean/logical opeartors are\n",
    "1.and,or,not"
   ]
  },
  {
   "cell_type": "code",
   "execution_count": null,
   "id": "9b8a1c54-6eb8-40ab-a709-0dcac86b40ad",
   "metadata": {},
   "outputs": [],
   "source": [
    "# question 3\n",
    "There are three logical operators,they are and,or,not.\n",
    "The and ,or have two  operands and have foue rows in a truth table\n",
    "Truth table describing and\n",
    "                        a  b   a and b\n",
    "                        F  F   F\n",
    "                        F  T   F\n",
    "                        T  F   F\n",
    "                        T  T   T\n",
    "Trurh table for or\n",
    "                        a  b   a or b\n",
    "                        F  F   F\n",
    "                        F  T   T\n",
    "                        T  F   T\n",
    "                        T  T   T\n",
    "Truth table not\n",
    "                        a  not a\n",
    "                        F   T\n",
    "                        T   F         "
   ]
  },
  {
   "cell_type": "code",
   "execution_count": null,
   "id": "e775f99a-2feb-45e3-a2d2-fd42ddccfd7d",
   "metadata": {},
   "outputs": [],
   "source": [
    "# QUESTION 4\n",
    "1.(5 > 4)and (3==5) the output is False\n",
    "2.not (5>4) the output is False\n",
    "3.(5>4) or (3==5) the output is True\n",
    "4.(True and True ) and (True==False) => (True) and (False) => output is False\n",
    "5.(not False) or (not True)=> (T)or(F)=> the output is True\n"
   ]
  },
  {
   "cell_type": "code",
   "execution_count": null,
   "id": "06ab5b69-0a6b-4d58-85a9-944b812875f7",
   "metadata": {},
   "outputs": [],
   "source": [
    "# question 5\n",
    "1.The operator ==.It is comparision operator and produces bool result\n",
    "2.!= (not equal);Example:x!=y\n",
    "3.(>=,>,<=,<)that means (greater than or equal to,greater than,less than or equal to,less than)"
   ]
  },
  {
   "cell_type": "code",
   "execution_count": null,
   "id": "6c064efd-2faa-48a2-a705-bf6655f386b5",
   "metadata": {},
   "outputs": [],
   "source": [
    "# question 6\n",
    "the '=' is an assignment operator used to assign values on the right to the variables on the left.\n",
    "for example:\n",
    "    a = 3 \n",
    "    b = 6\n",
    "    c = a+b\n",
    "then \"==\" is a relational/comparision operator \n",
    "for example:\n",
    "    1 == 1 is valid and returns 1\n",
    "    1 == 0 is valid and returns 0"
   ]
  },
  {
   "cell_type": "code",
   "execution_count": null,
   "id": "473c8148-91d1-42eb-9ec8-199ba9e8c8ab",
   "metadata": {},
   "outputs": [],
   "source": [
    "# question 7\n",
    "spam = 0\n",
    "if spam == 10:\n",
    "    print(\"eggs\")\n",
    "    if spam > 5:\n",
    "        print(\"bacon\")\n",
    "    else:\n",
    "        print(\"ham\")\n",
    "        print('spam')\n",
    "else:\n",
    "    print(\"spa\")\n",
    "# There are three blocks with in if statement(if,else,else)\n",
    "# A new block begins every time after indentation"
   ]
  },
  {
   "cell_type": "code",
   "execution_count": null,
   "id": "424ffe94-8e23-4965-9ef8-e98f37cd2d18",
   "metadata": {},
   "outputs": [],
   "source": [
    "# question 8\n",
    "spam = int(input(\"enter a num\"))\n",
    "if spam == 1:\n",
    "    print(\"hello\")\n",
    "elif spam == 2: # elif is abbreviation of else if\n",
    "    print(\"howdy\")\n",
    "else:\n",
    "    print(\"greetings!\")"
   ]
  },
  {
   "cell_type": "code",
   "execution_count": null,
   "id": "0a6b76d9-3933-4f24-83ec-1bc15aca2acf",
   "metadata": {},
   "outputs": [],
   "source": [
    "# question 9\n",
    "1.ctrl + c\n",
    "2.we can use break keyword also when using while True "
   ]
  },
  {
   "cell_type": "code",
   "execution_count": null,
   "id": "1134b25f-87e7-4b8a-8438-33bfaf476bb9",
   "metadata": {},
   "outputs": [],
   "source": [
    "# question 10\n",
    "# example for break\n",
    "for i in [12,16,17,24,29]:\n",
    "    if i % 2 == 1: # if the number is odd\n",
    "        break      #....immediately exit the loop and prints \"done\"\n",
    "    print(i)\n",
    "print(\"done\")\n",
    "#output =  12\n",
    "           16\n",
    "           done\n",
    "# Example for continue\n",
    "for i in [10,18,21,65,32,87,99]:\n",
    "    if i % 2 == 1:   # if number is odd\n",
    "        continue     \"\"\"don't process it but the loop still caries\n",
    "    print(i)            on running for its remaining iterations\"\"\"\n",
    "print(\"done\")\n",
    "output = 10\n",
    "         18\n",
    "         32\n",
    "         done"
   ]
  },
  {
   "cell_type": "code",
   "execution_count": null,
   "id": "523001f6-db11-4da2-8200-46fbd9cb7564",
   "metadata": {},
   "outputs": [],
   "source": [
    "# question 11\n",
    "for i in range(10): for i in range(0,10): for i in range(0,10,1)  # all the three statements are same.they print upperbound minus one(0-9)\n",
    "    print(list(i))\n",
    "# output => [0,1,2,3,4,5,6,7,8,9]\n"
   ]
  },
  {
   "cell_type": "code",
   "execution_count": null,
   "id": "a1bb151e-f834-402d-a039-a833f3ddd118",
   "metadata": {},
   "outputs": [],
   "source": [
    "# question 12\n",
    "# for loop to print 1 to 10\n",
    "i = 0\n",
    "for i in range(0,10):\n",
    "    i += 1\n",
    "    print(list(i))\n",
    "#while loop to print 1 to 10\n",
    "i = 1\n",
    "while True:\n",
    "    if i > 10:\n",
    "        break\n",
    "    print(i)\n",
    "    i += 1"
   ]
  },
  {
   "cell_type": "code",
   "execution_count": null,
   "id": "cea17000-b555-4640-a5bd-1b428a8eab70",
   "metadata": {},
   "outputs": [],
   "source": [
    "# question 13\n",
    "\"\"\"\n",
    "first create spam module in python file as spam.py\\\n",
    "then define a function using def as \\\n",
    "def bacon():\n",
    "print(\"error\")\n",
    "Then import that module named spam in ipynb \n",
    "and call as follow\n",
    "\"\"\"\n",
    "import spam as s\n",
    "def bacon()\n",
    "    print(\"hello\")\n",
    "s.bacon()"
   ]
  }
 ],
 "metadata": {
  "kernelspec": {
   "display_name": "Python 3 (ipykernel)",
   "language": "python",
   "name": "python3"
  },
  "language_info": {
   "codemirror_mode": {
    "name": "ipython",
    "version": 3
   },
   "file_extension": ".py",
   "mimetype": "text/x-python",
   "name": "python",
   "nbconvert_exporter": "python",
   "pygments_lexer": "ipython3",
   "version": "3.10.6"
  }
 },
 "nbformat": 4,
 "nbformat_minor": 5
}
